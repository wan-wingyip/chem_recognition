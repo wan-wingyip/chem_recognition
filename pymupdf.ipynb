{
 "cells": [
  {
   "cell_type": "code",
   "execution_count": 11,
   "metadata": {},
   "outputs": [],
   "source": [
    "# The import name for this library is fitz\n",
    "import fitz\n",
    "import io\n",
    "from PIL import Image\n",
    "import pathlib"
   ]
  },
  {
   "cell_type": "code",
   "execution_count": 12,
   "metadata": {},
   "outputs": [],
   "source": [
    "# Create a document object\n",
    "#doc = fitz.open('pdfs/test_03.pdf')  # or fitz.Document(filename)\n",
    "\n",
    "# Extract the number of pages (int)\n",
    "#print(doc.page_count)\n",
    "\n",
    "# the metadata (dict) e.g., the author,...\n",
    "#print(doc.metadata)"
   ]
  },
  {
   "cell_type": "code",
   "execution_count": 16,
   "metadata": {},
   "outputs": [],
   "source": [
    "dest_path = \"testpull_pymupdf/\"\n",
    "\n",
    "#file path you want to extract images from\n",
    "file = r\"test_pdfs/test_03.pdf\""
   ]
  },
  {
   "cell_type": "code",
   "execution_count": 17,
   "metadata": {},
   "outputs": [
    {
     "name": "stdout",
     "output_type": "stream",
     "text": [
      "[+] Found a total of 3 images in page 1\n",
      "[+] Found a total of 1 images in page 2\n",
      "[!] No images found on page 3\n",
      "[!] No images found on page 4\n",
      "[!] No images found on page 5\n",
      "[!] No images found on page 6\n",
      "[+] Found a total of 1 images in page 7\n",
      "[+] Found a total of 1 images in page 8\n",
      "[+] Found a total of 1 images in page 9\n",
      "[!] No images found on page 10\n",
      "[!] No images found on page 11\n"
     ]
    }
   ],
   "source": [
    "#open the file\n",
    "pdf_file = fitz.open(file)   \n",
    "#iterate over PDF pages\n",
    "for page_index in range(pdf_file.page_count):\n",
    "    #get the page itself\n",
    "    page = pdf_file[page_index]\n",
    "    image_li = page.get_images()\n",
    "    #printing number of images found in this page\n",
    "    #page index starts from 0 hence adding 1 to its content\n",
    "    if image_li:\n",
    "        print(f\"[+] Found a total of {len(image_li)} images in page {page_index+1}\")\n",
    "    else:\n",
    "        print(f\"[!] No images found on page {page_index+1}\")\n",
    "    for image_index, img in enumerate(page.get_images(), start=1):\n",
    "        #get the XREF of the image\n",
    "        xref = img[0]\n",
    "        #extract the image bytes\n",
    "        base_image = pdf_file.extract_image(xref)\n",
    "        image_bytes = base_image[\"image\"]\n",
    "        #get the image extension\n",
    "        image_ext = base_image[\"ext\"]\n",
    "        #load it to PIL\n",
    "        image = Image.open(io.BytesIO(image_bytes))\n",
    "        #save it to local disk\n",
    "        image.save(open(dest_path + pathlib.Path(file).stem + f\"_pg{page_index+1}_{image_index}.{image_ext}\", \"wb\"))\n",
    "     \n",
    "         "
   ]
  },
  {
   "cell_type": "code",
   "execution_count": null,
   "metadata": {},
   "outputs": [],
   "source": []
  }
 ],
 "metadata": {
  "kernelspec": {
   "display_name": "Python 3",
   "language": "python",
   "name": "python3"
  },
  "language_info": {
   "codemirror_mode": {
    "name": "ipython",
    "version": 3
   },
   "file_extension": ".py",
   "mimetype": "text/x-python",
   "name": "python",
   "nbconvert_exporter": "python",
   "pygments_lexer": "ipython3",
   "version": "3.11.5"
  }
 },
 "nbformat": 4,
 "nbformat_minor": 2
}
