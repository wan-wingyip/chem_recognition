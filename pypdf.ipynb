{
 "cells": [
  {
   "cell_type": "code",
   "execution_count": 43,
   "metadata": {},
   "outputs": [],
   "source": [
    "import os\n",
    "from PIL import Image\n",
    "import pathlib\n",
    "\n",
    "from pypdf import PdfReader"
   ]
  },
  {
   "cell_type": "code",
   "execution_count": 44,
   "metadata": {},
   "outputs": [],
   "source": [
    "#files = os.listdir(path)\n",
    "#\n",
    "#for file in files:\n",
    "#    im = Image.open(\"raw/chem_pics/\" + file)\n",
    "#    im.save(\"raw/png_chem_pics/\" + pathlib.Path(file).stem + '.png')"
   ]
  },
  {
   "cell_type": "code",
   "execution_count": 45,
   "metadata": {},
   "outputs": [],
   "source": [
    "#path = 'raw/misc_pics/'\n",
    "#files = os.listdir(path)\n",
    "\n",
    "#for file in files:\n",
    "#    im = Image.open(\"raw/misc_pics/\" + file)\n",
    "#    im.save(\"raw/png_misc_pics/\" + pathlib.Path(file).stem + '.png')"
   ]
  },
  {
   "cell_type": "code",
   "execution_count": 71,
   "metadata": {},
   "outputs": [],
   "source": [
    "# specify which pdf and where to save\n",
    "pull_path = 'test_pdfs/test_02.pdf'\n",
    "dest_path = \"testpull_pypdf/\"\n",
    "\n",
    "# Initiate reader object\n",
    "reader = PdfReader(pull_path)\n",
    "\n",
    "# for all pages\n",
    "for page in reader.pages:\n",
    "    for img in page.images:\n",
    "        with open(dest_path + pathlib.Path(pull_path).stem + \"_pg\" + str(page.page_number) + img.name, \"wb\") as fp:\n",
    "            fp.write(img.data)"
   ]
  },
  {
   "cell_type": "code",
   "execution_count": 63,
   "metadata": {},
   "outputs": [],
   "source": [
    "# specify which pdf and where to save\n",
    "pull_path = 'test_pdfs/green_chem.pdf'\n",
    "dest_path = \"testpull_pypdf/\"\n",
    "\n",
    "# Initiate reader object\n",
    "reader = PdfReader(pull_path)\n",
    "\n",
    "# for single page\n",
    "page = reader.pages[2]\n",
    "for img in page.images:\n",
    "    with open(dest_path + pathlib.Path(pull_path).stem + \"_pg\" + str(page.page_number) + \"_\" + img.name, \"wb\") as fp:\n",
    "        fp.write(img.data)"
   ]
  },
  {
   "cell_type": "code",
   "execution_count": null,
   "metadata": {},
   "outputs": [],
   "source": []
  }
 ],
 "metadata": {
  "kernelspec": {
   "display_name": "Python 3",
   "language": "python",
   "name": "python3"
  },
  "language_info": {
   "codemirror_mode": {
    "name": "ipython",
    "version": 3
   },
   "file_extension": ".py",
   "mimetype": "text/x-python",
   "name": "python",
   "nbconvert_exporter": "python",
   "pygments_lexer": "ipython3",
   "version": "3.11.5"
  }
 },
 "nbformat": 4,
 "nbformat_minor": 2
}
