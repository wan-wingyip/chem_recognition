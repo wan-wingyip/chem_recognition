{
 "cells": [
  {
   "cell_type": "code",
   "execution_count": 15,
   "metadata": {},
   "outputs": [],
   "source": [
    "import cv2\n",
    "import numpy as np\n",
    "from pdf2image import convert_from_path\n",
    "import sys, fitz  # import the bindings\n"
   ]
  },
  {
   "cell_type": "code",
   "execution_count": 19,
   "metadata": {},
   "outputs": [],
   "source": [
    "# Store Pdf with convert_from_path function\n",
    "path = 'pdfs_google_patent/1498383555865983980-08507653 - US8507653.pdf'\n",
    "\n",
    "#1498392494248982643-08003742 - US8003742.pdf"
   ]
  },
  {
   "cell_type": "code",
   "execution_count": 20,
   "metadata": {},
   "outputs": [],
   "source": [
    "doc = fitz.open(path)  # open document\n",
    "for page in doc:  # iterate through the pages\n",
    "    pix = page.get_pixmap()  # render page to an image\n",
    "    pix.save(\"testpull_ocv_pages/page-%i.png\" % page.number)  # store image as a PNG\n"
   ]
  },
  {
   "cell_type": "code",
   "execution_count": 23,
   "metadata": {},
   "outputs": [
    {
     "data": {
      "text/plain": [
       "-1"
      ]
     },
     "execution_count": 23,
     "metadata": {},
     "output_type": "execute_result"
    }
   ],
   "source": [
    "page_path = 'testpull_ocv_pages/page-10.png'\n",
    "\n",
    "# Load image, grayscale, Otsu's threshold\n",
    "image = cv2.imread(page_path)\n",
    "original = image.copy()\n",
    "gray = cv2.cvtColor(image, cv2.COLOR_BGR2GRAY)\n",
    "thresh = cv2.threshold(gray, 0, 255, cv2.THRESH_BINARY_INV + cv2.THRESH_OTSU)[1]\n",
    "\n",
    "# Dilate with horizontal kernel\n",
    "kernel = cv2.getStructuringElement(cv2.MORPH_RECT, (20,10))\n",
    "dilate = cv2.dilate(thresh, kernel, iterations=2)\n",
    "\n",
    "# Find contours and remove non-diagram contours\n",
    "cnts = cv2.findContours(dilate, cv2.RETR_EXTERNAL, cv2.CHAIN_APPROX_SIMPLE)\n",
    "cnts = cnts[0] if len(cnts) == 2 else cnts[1]\n",
    "for c in cnts:\n",
    "    x,y,w,h = cv2.boundingRect(c)\n",
    "    area = cv2.contourArea(c)\n",
    "    if w/h > 2 and area > 10000:\n",
    "        cv2.drawContours(dilate, [c], -1, (0,0,0), -1)\n",
    "\n",
    "# Iterate through diagram contours and form single bounding box\n",
    "boxes = []\n",
    "cnts = cv2.findContours(dilate, cv2.RETR_EXTERNAL, cv2.CHAIN_APPROX_SIMPLE)\n",
    "cnts = cnts[0] if len(cnts) == 2 else cnts[1]\n",
    "for c in cnts:\n",
    "    x, y, w, h = cv2.boundingRect(c)\n",
    "    boxes.append([x,y, x+w,y+h])\n",
    "\n",
    "boxes = np.asarray(boxes)\n",
    "x = np.min(boxes[:,0])\n",
    "y = np.min(boxes[:,1])\n",
    "w = np.max(boxes[:,2]) - x\n",
    "h = np.max(boxes[:,3]) - y\n",
    "\n",
    "# Extract ROI\n",
    "cv2.rectangle(image, (x,y), (x + w,y + h), (36,255,12), 3)\n",
    "ROI = original[y:y+h, x:x+w]\n",
    "\n",
    "cv2.imshow('image', image)\n",
    "cv2.imshow('thresh', thresh) \n",
    "cv2.imshow('dilate', dilate)\n",
    "cv2.imshow('ROI', ROI)\n",
    "cv2.waitKey(0)"
   ]
  },
  {
   "cell_type": "code",
   "execution_count": null,
   "metadata": {},
   "outputs": [],
   "source": []
  }
 ],
 "metadata": {
  "kernelspec": {
   "display_name": "Python 3",
   "language": "python",
   "name": "python3"
  },
  "language_info": {
   "codemirror_mode": {
    "name": "ipython",
    "version": 3
   },
   "file_extension": ".py",
   "mimetype": "text/x-python",
   "name": "python",
   "nbconvert_exporter": "python",
   "pygments_lexer": "ipython3",
   "version": "3.11.5"
  }
 },
 "nbformat": 4,
 "nbformat_minor": 2
}
